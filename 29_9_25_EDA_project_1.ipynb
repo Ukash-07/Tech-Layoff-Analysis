{
  "cells": [
    {
      "cell_type": "markdown",
      "metadata": {
        "id": "Ds81vs__1G7L"
      },
      "source": [
        "Tech Layoffs Analysis"
      ]
    },
    {
      "cell_type": "code",
      "execution_count": 1,
      "metadata": {
        "id": "SZuXE7jY1Oj2"
      },
      "outputs": [],
      "source": [
        "import pandas as pd\n",
        "import numpy as np\n",
        "import matplotlib.pyplot as plt\n",
        "import seaborn as sns"
      ]
    },
    {
      "cell_type": "code",
      "execution_count": 2,
      "metadata": {
        "colab": {
          "base_uri": "https://localhost:8080/",
          "height": 206
        },
        "id": "scn_a6xY6Gxx",
        "outputId": "1919f267-6785-42c4-c0fe-e2a50c86c6e5"
      },
      "outputs": [
        {
          "data": {
            "text/html": [
              "<div>\n",
              "<style scoped>\n",
              "    .dataframe tbody tr th:only-of-type {\n",
              "        vertical-align: middle;\n",
              "    }\n",
              "\n",
              "    .dataframe tbody tr th {\n",
              "        vertical-align: top;\n",
              "    }\n",
              "\n",
              "    .dataframe thead th {\n",
              "        text-align: right;\n",
              "    }\n",
              "</style>\n",
              "<table border=\"1\" class=\"dataframe\">\n",
              "  <thead>\n",
              "    <tr style=\"text-align: right;\">\n",
              "      <th></th>\n",
              "      <th>company</th>\n",
              "      <th>company_size</th>\n",
              "      <th>employees_fired</th>\n",
              "    </tr>\n",
              "  </thead>\n",
              "  <tbody>\n",
              "    <tr>\n",
              "      <th>0</th>\n",
              "      <td>Apple</td>\n",
              "      <td>147000</td>\n",
              "      <td>0</td>\n",
              "    </tr>\n",
              "    <tr>\n",
              "      <th>1</th>\n",
              "      <td>Microsoft</td>\n",
              "      <td>181000</td>\n",
              "      <td>6000</td>\n",
              "    </tr>\n",
              "    <tr>\n",
              "      <th>2</th>\n",
              "      <td>Google</td>\n",
              "      <td>139500</td>\n",
              "      <td>15000</td>\n",
              "    </tr>\n",
              "    <tr>\n",
              "      <th>3</th>\n",
              "      <td>Amazon</td>\n",
              "      <td>1300000</td>\n",
              "      <td>12000</td>\n",
              "    </tr>\n",
              "    <tr>\n",
              "      <th>4</th>\n",
              "      <td>Facebook</td>\n",
              "      <td>60750</td>\n",
              "      <td>11000</td>\n",
              "    </tr>\n",
              "  </tbody>\n",
              "</table>\n",
              "</div>"
            ],
            "text/plain": [
              "     company  company_size  employees_fired\n",
              "0      Apple        147000                0\n",
              "1  Microsoft        181000             6000\n",
              "2     Google        139500            15000\n",
              "3     Amazon       1300000            12000\n",
              "4   Facebook         60750            11000"
            ]
          },
          "execution_count": 2,
          "metadata": {},
          "output_type": "execute_result"
        }
      ],
      "source": [
        "df=pd.read_csv('tech_layoffs.csv')\n",
        "df.head(5)"
      ]
    },
    {
      "cell_type": "markdown",
      "metadata": {
        "id": "7B27mjJt6lO3"
      },
      "source": [
        "Part 1 – Basic Data Understanding (Pandas)"
      ]
    },
    {
      "cell_type": "code",
      "execution_count": 3,
      "metadata": {
        "colab": {
          "base_uri": "https://localhost:8080/",
          "height": 363
        },
        "id": "pEMDEtyj6ncx",
        "outputId": "09064803-6b8d-4607-f97d-fae11e8a09cc"
      },
      "outputs": [
        {
          "data": {
            "text/html": [
              "<div>\n",
              "<style scoped>\n",
              "    .dataframe tbody tr th:only-of-type {\n",
              "        vertical-align: middle;\n",
              "    }\n",
              "\n",
              "    .dataframe tbody tr th {\n",
              "        vertical-align: top;\n",
              "    }\n",
              "\n",
              "    .dataframe thead th {\n",
              "        text-align: right;\n",
              "    }\n",
              "</style>\n",
              "<table border=\"1\" class=\"dataframe\">\n",
              "  <thead>\n",
              "    <tr style=\"text-align: right;\">\n",
              "      <th></th>\n",
              "      <th>company</th>\n",
              "      <th>company_size</th>\n",
              "      <th>employees_fired</th>\n",
              "    </tr>\n",
              "  </thead>\n",
              "  <tbody>\n",
              "    <tr>\n",
              "      <th>0</th>\n",
              "      <td>Apple</td>\n",
              "      <td>147000</td>\n",
              "      <td>0</td>\n",
              "    </tr>\n",
              "    <tr>\n",
              "      <th>1</th>\n",
              "      <td>Microsoft</td>\n",
              "      <td>181000</td>\n",
              "      <td>6000</td>\n",
              "    </tr>\n",
              "    <tr>\n",
              "      <th>2</th>\n",
              "      <td>Google</td>\n",
              "      <td>139500</td>\n",
              "      <td>15000</td>\n",
              "    </tr>\n",
              "    <tr>\n",
              "      <th>3</th>\n",
              "      <td>Amazon</td>\n",
              "      <td>1300000</td>\n",
              "      <td>12000</td>\n",
              "    </tr>\n",
              "    <tr>\n",
              "      <th>4</th>\n",
              "      <td>Facebook</td>\n",
              "      <td>60750</td>\n",
              "      <td>11000</td>\n",
              "    </tr>\n",
              "    <tr>\n",
              "      <th>5</th>\n",
              "      <td>Tesla</td>\n",
              "      <td>70000</td>\n",
              "      <td>1000</td>\n",
              "    </tr>\n",
              "    <tr>\n",
              "      <th>6</th>\n",
              "      <td>Palantir</td>\n",
              "      <td>1008569</td>\n",
              "      <td>72661</td>\n",
              "    </tr>\n",
              "    <tr>\n",
              "      <th>7</th>\n",
              "      <td>PhonePe</td>\n",
              "      <td>850789</td>\n",
              "      <td>89997</td>\n",
              "    </tr>\n",
              "    <tr>\n",
              "      <th>8</th>\n",
              "      <td>Ola</td>\n",
              "      <td>135654</td>\n",
              "      <td>3909</td>\n",
              "    </tr>\n",
              "    <tr>\n",
              "      <th>9</th>\n",
              "      <td>Oracle</td>\n",
              "      <td>1116585</td>\n",
              "      <td>50166</td>\n",
              "    </tr>\n",
              "  </tbody>\n",
              "</table>\n",
              "</div>"
            ],
            "text/plain": [
              "     company  company_size  employees_fired\n",
              "0      Apple        147000                0\n",
              "1  Microsoft        181000             6000\n",
              "2     Google        139500            15000\n",
              "3     Amazon       1300000            12000\n",
              "4   Facebook         60750            11000\n",
              "5      Tesla         70000             1000\n",
              "6   Palantir       1008569            72661\n",
              "7    PhonePe        850789            89997\n",
              "8        Ola        135654             3909\n",
              "9     Oracle       1116585            50166"
            ]
          },
          "execution_count": 3,
          "metadata": {},
          "output_type": "execute_result"
        }
      ],
      "source": [
        "#Display the first 10 rows.\n",
        "df.head(10)"
      ]
    },
    {
      "cell_type": "code",
      "execution_count": 4,
      "metadata": {
        "colab": {
          "base_uri": "https://localhost:8080/"
        },
        "id": "s86o43zA7PwE",
        "outputId": "93797f41-b121-48e3-a355-2676319b4eca"
      },
      "outputs": [
        {
          "data": {
            "text/plain": [
              "(100, 3)"
            ]
          },
          "execution_count": 4,
          "metadata": {},
          "output_type": "execute_result"
        }
      ],
      "source": [
        "#Show shape, column names, and data types.\n",
        "df.shape\n"
      ]
    },
    {
      "cell_type": "code",
      "execution_count": 5,
      "metadata": {
        "colab": {
          "base_uri": "https://localhost:8080/"
        },
        "id": "xJFJJc4W7bQy",
        "outputId": "7434da57-d3e7-497d-b5da-d61047b1f3ac"
      },
      "outputs": [
        {
          "data": {
            "text/plain": [
              "Index(['company', 'company_size', 'employees_fired'], dtype='object')"
            ]
          },
          "execution_count": 5,
          "metadata": {},
          "output_type": "execute_result"
        }
      ],
      "source": [
        "df.columns\n"
      ]
    },
    {
      "cell_type": "code",
      "execution_count": 6,
      "metadata": {
        "colab": {
          "base_uri": "https://localhost:8080/",
          "height": 178
        },
        "id": "Ipq95Y597o7I",
        "outputId": "aa34294b-0955-4907-e980-89a59afb7afa"
      },
      "outputs": [
        {
          "data": {
            "text/plain": [
              "company            object\n",
              "company_size        int64\n",
              "employees_fired     int64\n",
              "dtype: object"
            ]
          },
          "execution_count": 6,
          "metadata": {},
          "output_type": "execute_result"
        }
      ],
      "source": [
        "df.dtypes"
      ]
    },
    {
      "cell_type": "code",
      "execution_count": 7,
      "metadata": {
        "colab": {
          "base_uri": "https://localhost:8080/",
          "height": 178
        },
        "id": "4eW8kVq47pwe",
        "outputId": "28570740-5313-4d15-b536-f57122713be8"
      },
      "outputs": [
        {
          "data": {
            "text/plain": [
              "company            0\n",
              "company_size       0\n",
              "employees_fired    0\n",
              "dtype: int64"
            ]
          },
          "execution_count": 7,
          "metadata": {},
          "output_type": "execute_result"
        }
      ],
      "source": [
        "#Check for missing values and duplicates.\n",
        "df.isnull().sum()"
      ]
    },
    {
      "cell_type": "code",
      "execution_count": 8,
      "metadata": {
        "colab": {
          "base_uri": "https://localhost:8080/"
        },
        "id": "I2FIh2rE753f",
        "outputId": "9b1b154d-2432-4705-fc56-7a83b04a4230"
      },
      "outputs": [
        {
          "data": {
            "text/plain": [
              "np.int64(0)"
            ]
          },
          "execution_count": 8,
          "metadata": {},
          "output_type": "execute_result"
        }
      ],
      "source": [
        "df.duplicated().sum()"
      ]
    },
    {
      "cell_type": "code",
      "execution_count": 9,
      "metadata": {
        "colab": {
          "base_uri": "https://localhost:8080/",
          "height": 300
        },
        "id": "OB3O8eXS8Cqw",
        "outputId": "f1cf1a5b-8311-4790-ddd3-56d7b0e7e84c"
      },
      "outputs": [
        {
          "data": {
            "text/html": [
              "<div>\n",
              "<style scoped>\n",
              "    .dataframe tbody tr th:only-of-type {\n",
              "        vertical-align: middle;\n",
              "    }\n",
              "\n",
              "    .dataframe tbody tr th {\n",
              "        vertical-align: top;\n",
              "    }\n",
              "\n",
              "    .dataframe thead th {\n",
              "        text-align: right;\n",
              "    }\n",
              "</style>\n",
              "<table border=\"1\" class=\"dataframe\">\n",
              "  <thead>\n",
              "    <tr style=\"text-align: right;\">\n",
              "      <th></th>\n",
              "      <th>company_size</th>\n",
              "      <th>employees_fired</th>\n",
              "    </tr>\n",
              "  </thead>\n",
              "  <tbody>\n",
              "    <tr>\n",
              "      <th>count</th>\n",
              "      <td>1.000000e+02</td>\n",
              "      <td>100.000000</td>\n",
              "    </tr>\n",
              "    <tr>\n",
              "      <th>mean</th>\n",
              "      <td>7.557156e+05</td>\n",
              "      <td>57355.620000</td>\n",
              "    </tr>\n",
              "    <tr>\n",
              "      <th>std</th>\n",
              "      <td>4.615541e+05</td>\n",
              "      <td>52862.274156</td>\n",
              "    </tr>\n",
              "    <tr>\n",
              "      <th>min</th>\n",
              "      <td>7.137000e+03</td>\n",
              "      <td>0.000000</td>\n",
              "    </tr>\n",
              "    <tr>\n",
              "      <th>25%</th>\n",
              "      <td>3.370110e+05</td>\n",
              "      <td>12968.250000</td>\n",
              "    </tr>\n",
              "    <tr>\n",
              "      <th>50%</th>\n",
              "      <td>8.116580e+05</td>\n",
              "      <td>42510.500000</td>\n",
              "    </tr>\n",
              "    <tr>\n",
              "      <th>75%</th>\n",
              "      <td>1.180989e+06</td>\n",
              "      <td>94080.750000</td>\n",
              "    </tr>\n",
              "    <tr>\n",
              "      <th>max</th>\n",
              "      <td>1.468680e+06</td>\n",
              "      <td>206083.000000</td>\n",
              "    </tr>\n",
              "  </tbody>\n",
              "</table>\n",
              "</div>"
            ],
            "text/plain": [
              "       company_size  employees_fired\n",
              "count  1.000000e+02       100.000000\n",
              "mean   7.557156e+05     57355.620000\n",
              "std    4.615541e+05     52862.274156\n",
              "min    7.137000e+03         0.000000\n",
              "25%    3.370110e+05     12968.250000\n",
              "50%    8.116580e+05     42510.500000\n",
              "75%    1.180989e+06     94080.750000\n",
              "max    1.468680e+06    206083.000000"
            ]
          },
          "execution_count": 9,
          "metadata": {},
          "output_type": "execute_result"
        }
      ],
      "source": [
        "\n",
        "#Use .describe() to get summary statistics\n",
        "df.describe()"
      ]
    },
    {
      "cell_type": "markdown",
      "metadata": {
        "id": "jCjTj9Zz8Vf4"
      },
      "source": [
        "Part 2 – Data Cleaning"
      ]
    },
    {
      "cell_type": "code",
      "execution_count": 10,
      "metadata": {
        "id": "4LfWsrPT8ZVa"
      },
      "outputs": [],
      "source": [
        "#Ensure company_size and employees_fired are stored as integers.\n",
        "df[\"company_size\"] = pd.to_numeric(df[\"company_size\"], errors=\"coerce\").astype(\"Int64\")\n",
        "df[\"employees_fired\"] = pd.to_numeric(df[\"employees_fired\"], errors=\"coerce\").astype(\"Int64\")\n"
      ]
    },
    {
      "cell_type": "code",
      "execution_count": 11,
      "metadata": {
        "id": "8WbfxBSYVuwe"
      },
      "outputs": [],
      "source": [
        "#Remove any extra spaces in company names.\n",
        "df[\"company\"] = df[\"company\"].str.strip()"
      ]
    },
    {
      "cell_type": "code",
      "execution_count": 12,
      "metadata": {
        "id": "i15S6HLpWDci"
      },
      "outputs": [],
      "source": [
        "#Check for any negative values in employees_fired or company_size and correct them if needed.\n",
        "\n",
        "df[\"company_size\"] = df[\"company_size\"].abs()\n",
        "df[\"employees_fired\"] = df[\"employees_fired\"].abs()\n"
      ]
    },
    {
      "cell_type": "code",
      "execution_count": 13,
      "metadata": {
        "id": "YpK52lQ7WzNP"
      },
      "outputs": [],
      "source": [
        "#Standardize company names to title case.\n",
        "df[\"company\"] = df[\"company\"].str.title()"
      ]
    },
    {
      "cell_type": "markdown",
      "metadata": {
        "id": "ngvniQAEXS60"
      },
      "source": [
        "Part 3 – Exploratory Data Analysis (EDA)\n"
      ]
    },
    {
      "cell_type": "code",
      "execution_count": 14,
      "metadata": {
        "colab": {
          "base_uri": "https://localhost:8080/"
        },
        "id": "mRD9w-sBXW_G",
        "outputId": "1365f90a-bfc8-4ff0-d3ef-0bbe2dcdd987"
      },
      "outputs": [
        {
          "data": {
            "text/plain": [
              "Index(['company', 'company_size', 'employees_fired'], dtype='object')"
            ]
          },
          "execution_count": 14,
          "metadata": {},
          "output_type": "execute_result"
        }
      ],
      "source": [
        "df.columns"
      ]
    },
    {
      "cell_type": "code",
      "execution_count": 15,
      "metadata": {
        "colab": {
          "base_uri": "https://localhost:8080/"
        },
        "id": "B6oHeuXwXhIZ",
        "outputId": "e6f0b149-fd4e-4a0b-8ee4-915b4f86cad9"
      },
      "outputs": [
        {
          "name": "stdout",
          "output_type": "stream",
          "text": [
            "75571557\n"
          ]
        }
      ],
      "source": [
        "#Calculate the total number of employees across all companies.\n",
        "print(df['company_size'].sum())"
      ]
    },
    {
      "cell_type": "code",
      "execution_count": 16,
      "metadata": {
        "colab": {
          "base_uri": "https://localhost:8080/"
        },
        "id": "9IpUhDN3X38D",
        "outputId": "870a111c-9b95-41ae-8a36-f9d7f286019d"
      },
      "outputs": [
        {
          "name": "stdout",
          "output_type": "stream",
          "text": [
            "5735562\n"
          ]
        }
      ],
      "source": [
        "#Calculate the total number of employees laid off across all companies.\n",
        "print(df['employees_fired'].sum())"
      ]
    },
    {
      "cell_type": "code",
      "execution_count": 17,
      "metadata": {
        "colab": {
          "base_uri": "https://localhost:8080/"
        },
        "id": "b6YOOxb7YPNh",
        "outputId": "d93ecc59-5cb2-4b1c-9b15-c36f902f93ec"
      },
      "outputs": [
        {
          "name": "stdout",
          "output_type": "stream",
          "text": [
            "\n",
            "Company with Highest Layoffs:\n",
            " company            Makemytrip\n",
            "employees_fired        206083\n",
            "Name: 63, dtype: object\n"
          ]
        }
      ],
      "source": [
        "\n",
        "#Find the company with the highest number of layoffs.\n",
        "max_layoff_company = df.loc[df[\"employees_fired\"].idxmax(), [\"company\", \"employees_fired\"]]\n",
        "print(\"\\nCompany with Highest Layoffs:\\n\", max_layoff_company)"
      ]
    },
    {
      "cell_type": "code",
      "execution_count": 18,
      "metadata": {
        "colab": {
          "base_uri": "https://localhost:8080/"
        },
        "id": "bcdvELyqYrox",
        "outputId": "a0ace98e-6a17-40a1-fb83-892a4f2a801c"
      },
      "outputs": [
        {
          "name": "stdout",
          "output_type": "stream",
          "text": [
            "\n",
            "Company with Highest Layoff Percentage:\n",
            " company               Facebook\n",
            "layoff_percentage    18.106996\n",
            "Name: 4, dtype: object\n"
          ]
        }
      ],
      "source": [
        "#Find the company with the highest layoff percentage.\n",
        "df[\"layoff_percentage\"] = (df[\"employees_fired\"] / df[\"company_size\"]) * 100\n",
        "max_layoff_percentage = df.loc[df[\"layoff_percentage\"].idxmax(), [\"company\", \"layoff_percentage\"]]\n",
        "print(\"\\nCompany with Highest Layoff Percentage:\\n\", max_layoff_percentage)"
      ]
    },
    {
      "cell_type": "code",
      "execution_count": 19,
      "metadata": {
        "colab": {
          "base_uri": "https://localhost:8080/",
          "height": 714
        },
        "id": "0RI_oAuaY9nb",
        "outputId": "9d5db1ef-316f-463c-cb84-2ad80f8e2066"
      },
      "outputs": [
        {
          "name": "stderr",
          "output_type": "stream",
          "text": [
            "C:\\Users\\dukas\\AppData\\Local\\Temp\\ipykernel_16744\\1934033894.py:3: FutureWarning: \n",
            "\n",
            "Passing `palette` without assigning `hue` is deprecated and will be removed in v0.14.0. Assign the `x` variable to `hue` and set `legend=False` for the same effect.\n",
            "\n",
            "  sns.barplot(data=df, x=\"company\", y=\"employees_fired\", palette=\"viridis\")\n"
          ]
        },
        {
          "data": {
            "image/png": "[encoded data removed]",
            "text/plain": [
              "<Figure size 1000x600 with 1 Axes>"
            ]
          },
          "metadata": {},
          "output_type": "display_data"
        }
      ],
      "source": [
        "#Create a bar chart of layoffs per company\n",
        "plt.figure(figsize=(10,6))\n",
        "sns.barplot(data=df, x=\"company\", y=\"employees_fired\", palette=\"viridis\")\n",
        "plt.xticks(rotation=45, ha=\"right\")\n",
        "plt.title(\"Number of Layoffs per Company\")\n",
        "plt.xlabel(\"Company\")\n",
        "plt.ylabel(\"Employees Fired\")\n",
        "plt.tight_layout()\n",
        "plt.show()"
      ]
    },
    {
      "cell_type": "markdown",
      "metadata": {
        "id": "ViNs2RhRan0r"
      },
      "source": [
        "Part 4 – Statistics"
      ]
    },
    {
      "cell_type": "code",
      "execution_count": 20,
      "metadata": {
        "colab": {
          "base_uri": "https://localhost:8080/"
        },
        "id": "9_HOlO4oanJ_",
        "outputId": "88c4d4b1-3c75-4bd9-df43-b594456ce256"
      },
      "outputs": [
        {
          "name": "stdout",
          "output_type": "stream",
          "text": [
            "57355.62\n",
            "42510.5\n",
            "2794420028.9248486\n",
            "52862.27415581786\n"
          ]
        }
      ],
      "source": [
        "#Calculate mean, median, variance, and standard deviation of employees_fired.\n",
        "print(df['employees_fired'].mean())\n",
        "print(df['employees_fired'].median())\n",
        "print(df['employees_fired'].var())\n",
        "print(df['employees_fired'].std())"
      ]
    },
    {
      "cell_type": "code",
      "execution_count": 21,
      "metadata": {
        "colab": {
          "base_uri": "https://localhost:8080/"
        },
        "id": "Ly3oIHp9ajzH",
        "outputId": "d3d8d1e7-9dbb-4414-c907-66a5cb8b2514"
      },
      "outputs": [
        {
          "name": "stdout",
          "output_type": "stream",
          "text": [
            "Probability of layoffs > 5%: 0.63\n"
          ]
        }
      ],
      "source": [
        "#Find the probability that a company laid off more than 5% of its employees.\n",
        "df[\"layoff_percentage\"] = (df[\"employees_fired\"] / df[\"company_size\"]) * 100\n",
        "prob_5pct = (df[\"layoff_percentage\"] > 5).mean()   # fraction of companies\n",
        "print(\"Probability of layoffs > 5%:\", prob_5pct)"
      ]
    },
    {
      "cell_type": "code",
      "execution_count": 22,
      "metadata": {
        "colab": {
          "base_uri": "https://localhost:8080/"
        },
        "id": "cDBbVo_rqiGR",
        "outputId": "7f13e373-13b2-4c3a-9151-b56f0d1e4ba4"
      },
      "outputs": [
        {
          "name": "stdout",
          "output_type": "stream",
          "text": [
            "Percentage of Companies with >10,000 layoffs: 78.0 %\n"
          ]
        }
      ],
      "source": [
        "#Find the percentage of companies with layoffs greater than 10,000 employees.\n",
        "pct_large_layoffs = (df[\"employees_fired\"] > 10000).mean() * 100\n",
        "print(\"Percentage of Companies with >10,000 layoffs:\", pct_large_layoffs, \"%\")"
      ]
    },
    {
      "cell_type": "markdown",
      "metadata": {
        "id": "rGpmRbeyq-VQ"
      },
      "source": [
        "Part 5 – Linear Algebra & NumPy"
      ]
    },
    {
      "cell_type": "code",
      "execution_count": 23,
      "metadata": {
        "colab": {
          "base_uri": "https://localhost:8080/"
        },
        "id": "1U6PhrabrAiX",
        "outputId": "54c80141-b8e4-48b5-9ca0-c639cb12a299"
      },
      "outputs": [
        {
          "name": "stdout",
          "output_type": "stream",
          "text": [
            "Company Size Array: [ 147000  181000  139500 1300000   60750]\n",
            "Employees Fired Array: [    0  6000 15000 12000 11000]\n"
          ]
        }
      ],
      "source": [
        "#Convert company_size and employees_fired into NumPy arrays.\n",
        "company_size = df[\"company_size\"].to_numpy()\n",
        "employees_fired = df[\"employees_fired\"].to_numpy()\n",
        "print(\"Company Size Array:\", company_size[:5])\n",
        "print(\"Employees Fired Array:\", employees_fired[:5])"
      ]
    },
    {
      "cell_type": "code",
      "execution_count": 24,
      "metadata": {
        "colab": {
          "base_uri": "https://localhost:8080/"
        },
        "id": "imwb7YLsr9JN",
        "outputId": "cd7e3310-c66a-46d2-b143-498811ee99f9"
      },
      "outputs": [
        {
          "name": "stdout",
          "output_type": "stream",
          "text": [
            "Vector Subtraction (Remaining Employees): [ 147000  175000  124500 1288000   49750]\n"
          ]
        }
      ],
      "source": [
        "#Perform vector subtraction (company_size - employees_fired).\n",
        "remaining_employees = company_size - employees_fired\n",
        "print(\"Vector Subtraction (Remaining Employees):\", remaining_employees[:5])"
      ]
    },
    {
      "cell_type": "code",
      "execution_count": 25,
      "metadata": {
        "colab": {
          "base_uri": "https://localhost:8080/"
        },
        "id": "4FBGkEa6sUvd",
        "outputId": "9b8aa93c-bc1c-451e-a818-a4a2bd89e518"
      },
      "outputs": [
        {
          "name": "stdout",
          "output_type": "stream",
          "text": [
            "Dot Product: 5915259851695\n"
          ]
        }
      ],
      "source": [
        "#Compute the dot product of company_size and employees_fired.\n",
        "dot_product = np.dot(company_size, employees_fired)\n",
        "print(\"Dot Product:\", dot_product)"
      ]
    },
    {
      "cell_type": "code",
      "execution_count": 26,
      "metadata": {
        "colab": {
          "base_uri": "https://localhost:8080/"
        },
        "id": "i67--Ie4s_Al",
        "outputId": "e972fd97-46d8-4f49-8f33-4db9412f4030"
      },
      "outputs": [
        {
          "name": "stdout",
          "output_type": "stream",
          "text": [
            "Matrix Multiplication Result (first 10 values): [ 58800.   76000.   64800.  527200.   30900.   28600.  447024.2 394313.8\n",
            "  56607.  476733.6]\n"
          ]
        }
      ],
      "source": [
        "#Perform matrix multiplication:\n",
        "features = np.column_stack((company_size, employees_fired))\n",
        "weights = np.array([0.4, 0.6])\n",
        "result = features @ weights\n",
        "print(\"Matrix Multiplication Result (first 10 values):\", result[:10])"
      ]
    },
    {
      "cell_type": "markdown",
      "metadata": {
        "id": "NW_EYirkulFh"
      },
      "source": [
        "Part 6 – Feature Engineering"
      ]
    },
    {
      "cell_type": "code",
      "execution_count": 27,
      "metadata": {
        "id": "iG5eSSMjtarP"
      },
      "outputs": [],
      "source": [
        "#Create a new column Layoff_Percentage = (employees_fired / company_size) * 100 (rounded to 2 decimal places).\n",
        "df['Layoff_Percentage'] = round((df['employees_fired'] / df['company_size']) * 100, 2)\n"
      ]
    },
    {
      "cell_type": "code",
      "execution_count": 28,
      "metadata": {
        "colab": {
          "base_uri": "https://localhost:8080/",
          "height": 423
        },
        "id": "PZSE_FzIu7fh",
        "outputId": "c49b3ac5-5415-4936-8393-53c791ec2b17"
      },
      "outputs": [
        {
          "data": {
            "text/html": [
              "<div>\n",
              "<style scoped>\n",
              "    .dataframe tbody tr th:only-of-type {\n",
              "        vertical-align: middle;\n",
              "    }\n",
              "\n",
              "    .dataframe tbody tr th {\n",
              "        vertical-align: top;\n",
              "    }\n",
              "\n",
              "    .dataframe thead th {\n",
              "        text-align: right;\n",
              "    }\n",
              "</style>\n",
              "<table border=\"1\" class=\"dataframe\">\n",
              "  <thead>\n",
              "    <tr style=\"text-align: right;\">\n",
              "      <th></th>\n",
              "      <th>company</th>\n",
              "      <th>company_size</th>\n",
              "      <th>employees_fired</th>\n",
              "      <th>layoff_percentage</th>\n",
              "      <th>Layoff_Percentage</th>\n",
              "      <th>High_Layoff</th>\n",
              "    </tr>\n",
              "  </thead>\n",
              "  <tbody>\n",
              "    <tr>\n",
              "      <th>0</th>\n",
              "      <td>Apple</td>\n",
              "      <td>147000</td>\n",
              "      <td>0</td>\n",
              "      <td>0.0</td>\n",
              "      <td>0.0</td>\n",
              "      <td>0</td>\n",
              "    </tr>\n",
              "    <tr>\n",
              "      <th>1</th>\n",
              "      <td>Microsoft</td>\n",
              "      <td>181000</td>\n",
              "      <td>6000</td>\n",
              "      <td>3.314917</td>\n",
              "      <td>3.31</td>\n",
              "      <td>0</td>\n",
              "    </tr>\n",
              "    <tr>\n",
              "      <th>2</th>\n",
              "      <td>Google</td>\n",
              "      <td>139500</td>\n",
              "      <td>15000</td>\n",
              "      <td>10.752688</td>\n",
              "      <td>10.75</td>\n",
              "      <td>1</td>\n",
              "    </tr>\n",
              "    <tr>\n",
              "      <th>3</th>\n",
              "      <td>Amazon</td>\n",
              "      <td>1300000</td>\n",
              "      <td>12000</td>\n",
              "      <td>0.923077</td>\n",
              "      <td>0.92</td>\n",
              "      <td>0</td>\n",
              "    </tr>\n",
              "    <tr>\n",
              "      <th>4</th>\n",
              "      <td>Facebook</td>\n",
              "      <td>60750</td>\n",
              "      <td>11000</td>\n",
              "      <td>18.106996</td>\n",
              "      <td>18.11</td>\n",
              "      <td>1</td>\n",
              "    </tr>\n",
              "    <tr>\n",
              "      <th>...</th>\n",
              "      <td>...</td>\n",
              "      <td>...</td>\n",
              "      <td>...</td>\n",
              "      <td>...</td>\n",
              "      <td>...</td>\n",
              "      <td>...</td>\n",
              "    </tr>\n",
              "    <tr>\n",
              "      <th>95</th>\n",
              "      <td>Airbnb</td>\n",
              "      <td>448047</td>\n",
              "      <td>1012</td>\n",
              "      <td>0.225869</td>\n",
              "      <td>0.23</td>\n",
              "      <td>0</td>\n",
              "    </tr>\n",
              "    <tr>\n",
              "      <th>96</th>\n",
              "      <td>Uber</td>\n",
              "      <td>1206139</td>\n",
              "      <td>51658</td>\n",
              "      <td>4.282923</td>\n",
              "      <td>4.28</td>\n",
              "      <td>0</td>\n",
              "    </tr>\n",
              "    <tr>\n",
              "      <th>97</th>\n",
              "      <td>Gojek</td>\n",
              "      <td>302489</td>\n",
              "      <td>7084</td>\n",
              "      <td>2.341903</td>\n",
              "      <td>2.34</td>\n",
              "      <td>0</td>\n",
              "    </tr>\n",
              "    <tr>\n",
              "      <th>98</th>\n",
              "      <td>Freshworks</td>\n",
              "      <td>646552</td>\n",
              "      <td>7670</td>\n",
              "      <td>1.186293</td>\n",
              "      <td>1.19</td>\n",
              "      <td>0</td>\n",
              "    </tr>\n",
              "    <tr>\n",
              "      <th>99</th>\n",
              "      <td>Slack</td>\n",
              "      <td>869416</td>\n",
              "      <td>1201</td>\n",
              "      <td>0.138139</td>\n",
              "      <td>0.14</td>\n",
              "      <td>0</td>\n",
              "    </tr>\n",
              "  </tbody>\n",
              "</table>\n",
              "<p>100 rows × 6 columns</p>\n",
              "</div>"
            ],
            "text/plain": [
              "       company  company_size  employees_fired  layoff_percentage  \\\n",
              "0        Apple        147000                0                0.0   \n",
              "1    Microsoft        181000             6000           3.314917   \n",
              "2       Google        139500            15000          10.752688   \n",
              "3       Amazon       1300000            12000           0.923077   \n",
              "4     Facebook         60750            11000          18.106996   \n",
              "..         ...           ...              ...                ...   \n",
              "95      Airbnb        448047             1012           0.225869   \n",
              "96        Uber       1206139            51658           4.282923   \n",
              "97       Gojek        302489             7084           2.341903   \n",
              "98  Freshworks        646552             7670           1.186293   \n",
              "99       Slack        869416             1201           0.138139   \n",
              "\n",
              "    Layoff_Percentage  High_Layoff  \n",
              "0                 0.0            0  \n",
              "1                3.31            0  \n",
              "2               10.75            1  \n",
              "3                0.92            0  \n",
              "4               18.11            1  \n",
              "..                ...          ...  \n",
              "95               0.23            0  \n",
              "96               4.28            0  \n",
              "97               2.34            0  \n",
              "98               1.19            0  \n",
              "99               0.14            0  \n",
              "\n",
              "[100 rows x 6 columns]"
            ]
          },
          "execution_count": 28,
          "metadata": {},
          "output_type": "execute_result"
        }
      ],
      "source": [
        "#Create a High_Layoff column (1 if Layoff_Percentage > 5, else 0).\n",
        "df['High_Layoff'] = np.where(df['Layoff_Percentage'] > 5, 1, 0)\n",
        "df"
      ]
    },
    {
      "cell_type": "code",
      "execution_count": 29,
      "metadata": {
        "id": "pPvQqR_RvRiM"
      },
      "outputs": [],
      "source": [
        "#ank companies into quartiles based on Layoff_Percentage.\n",
        "df['Layoff_Quartile'] = pd.qcut(df['Layoff_Percentage'], 4, labels=['Q1', 'Q2', 'Q3', 'Q4'])"
      ]
    },
    {
      "cell_type": "markdown",
      "metadata": {
        "id": "CIsEAtJyvtgW"
      },
      "source": [
        "Part 7 – SQL Simulation in Pandas"
      ]
    },
    {
      "cell_type": "code",
      "execution_count": 30,
      "metadata": {
        "colab": {
          "base_uri": "https://localhost:8080/"
        },
        "id": "VP6Xp2VevtMk",
        "outputId": "bac33b1c-341f-47b3-83bd-b18918ddea4b"
      },
      "outputs": [
        {
          "name": "stdout",
          "output_type": "stream",
          "text": [
            "Companies with Layoff_Percentage > 5 (descending):\n",
            "       company  company_size  employees_fired  layoff_percentage  \\\n",
            "4     Facebook         60750            11000          18.106996   \n",
            "40     Curefit        497712            74175          14.903197   \n",
            "36     Shopify        449561            66606          14.815787   \n",
            "33  Salesforce        633768            92624          14.614812   \n",
            "63  Makemytrip       1424064           206083           14.47147   \n",
            "..         ...           ...              ...                ...   \n",
            "38        Grab        541906            30561           5.639539   \n",
            "17   Unacademy       1432228            79039           5.518605   \n",
            "73     Netflix        798065            42537           5.330017   \n",
            "46    Snapdeal        256183            13636           5.322758   \n",
            "10      Github       1427799            75006            5.25326   \n",
            "\n",
            "    Layoff_Percentage  High_Layoff Layoff_Quartile  \n",
            "4               18.11            1              Q4  \n",
            "40               14.9            1              Q4  \n",
            "36              14.82            1              Q4  \n",
            "33              14.61            1              Q4  \n",
            "63              14.47            1              Q4  \n",
            "..                ...          ...             ...  \n",
            "38               5.64            1              Q2  \n",
            "17               5.52            1              Q2  \n",
            "73               5.33            1              Q2  \n",
            "46               5.32            1              Q2  \n",
            "10               5.25            1              Q2  \n",
            "\n",
            "[63 rows x 7 columns]\n"
          ]
        }
      ],
      "source": [
        "#Select all companies with Layoff_Percentage > 5 and order them by Layoff_Percentage descending.\n",
        "high_layoff_companies = df[df['Layoff_Percentage'] > 5].sort_values(by='Layoff_Percentage', ascending=False)\n",
        "print(\"Companies with Layoff_Percentage > 5 (descending):\")\n",
        "print(high_layoff_companies)"
      ]
    },
    {
      "cell_type": "code",
      "execution_count": 31,
      "metadata": {
        "colab": {
          "base_uri": "https://localhost:8080/"
        },
        "id": "pFdzNrgJveZZ",
        "outputId": "7edc01d0-c6bf-4bce-9d72-1f94128793d1"
      },
      "outputs": [
        {
          "name": "stdout",
          "output_type": "stream",
          "text": [
            "       company  company_size  employees_fired  layoff_percentage  \\\n",
            "63  Makemytrip       1424064           206083           14.47147   \n",
            "89    Razorpay       1387660           191727          13.816569   \n",
            "30    Doordash       1468609           189338          12.892336   \n",
            "\n",
            "    Layoff_Percentage  High_Layoff Layoff_Quartile  \n",
            "63              14.47            1              Q4  \n",
            "89              13.82            1              Q4  \n",
            "30              12.89            1              Q4  \n"
          ]
        }
      ],
      "source": [
        "#Get the top 3 companies with the highest layoff counts.\n",
        "top3_fired_alt = df.sort_values(by='employees_fired', ascending=False).head(3)\n",
        "print(top3_fired_alt)\n"
      ]
    },
    {
      "cell_type": "code",
      "execution_count": 32,
      "metadata": {
        "colab": {
          "base_uri": "https://localhost:8080/"
        },
        "id": "CylQ7cdJv3U4",
        "outputId": "2803a3f9-041b-4b50-daac-114fe9b20d92"
      },
      "outputs": [
        {
          "name": "stdout",
          "output_type": "stream",
          "text": [
            "\n",
            "Companies sorted alphabetically:\n",
            "      company  Layoff_Percentage\n",
            "29     Airbnb              10.29\n",
            "95     Airbnb               0.23\n",
            "3      Amazon               0.92\n",
            "56        Amd               0.33\n",
            "61        Amd               1.93\n",
            "..        ...                ...\n",
            "87       Uber              12.53\n",
            "96       Uber               4.28\n",
            "17  Unacademy               5.52\n",
            "43     Wework              13.78\n",
            "62     Wework               9.28\n",
            "\n",
            "[100 rows x 2 columns]\n"
          ]
        }
      ],
      "source": [
        "#Sort companies alphabetically and show company and Layoff_Percentage.\n",
        "alphabetical = df[['company', 'Layoff_Percentage']].sort_values(by='company')\n",
        "print(\"\\nCompanies sorted alphabetically:\")\n",
        "print(alphabetical)"
      ]
    },
    {
      "cell_type": "markdown",
      "metadata": {
        "id": "bM7_PAxqwf_m"
      },
      "source": [
        "Part 8 – Insights"
      ]
    },
    {
      "cell_type": "code",
      "execution_count": 33,
      "metadata": {
        "colab": {
          "base_uri": "https://localhost:8080/"
        },
        "id": "nmmFUZGwwieU",
        "outputId": "c0fc7754-dc46-4c56-9313-f9f8f8d02a1f"
      },
      "outputs": [
        {
          "name": "stdout",
          "output_type": "stream",
          "text": [
            "Company with highest layoff percentage: Facebook\n"
          ]
        }
      ],
      "source": [
        "#Which company had the highest layoffs in percentage terms?\n",
        "max_layoff_percentage = df.loc[df['Layoff_Percentage'].idxmax(), 'company']\n",
        "print(\"Company with highest layoff percentage:\", max_layoff_percentage)\n"
      ]
    },
    {
      "cell_type": "code",
      "execution_count": 34,
      "metadata": {
        "colab": {
          "base_uri": "https://localhost:8080/"
        },
        "id": "qY5smq8cw398",
        "outputId": "88364d1e-285d-4fd9-b74c-80c758e1059c"
      },
      "outputs": [
        {
          "name": "stdout",
          "output_type": "stream",
          "text": [
            "Company with most employees fired: Makemytrip\n"
          ]
        }
      ],
      "source": [
        "#Which company had the most employees fired in absolute numbers?\n",
        "max_employees_fired = df.loc[df['employees_fired'].idxmax(), 'company']\n",
        "print(\"Company with most employees fired:\", max_employees_fired)"
      ]
    },
    {
      "cell_type": "code",
      "execution_count": 35,
      "metadata": {
        "colab": {
          "base_uri": "https://localhost:8080/"
        },
        "id": "gepXogBEw4X6",
        "outputId": "159bc3b5-3d73-4832-a003-a77dfe9c4cd0"
      },
      "outputs": [
        {
          "name": "stdout",
          "output_type": "stream",
          "text": [
            "Average layoff percentage: 7.38\n"
          ]
        }
      ],
      "source": [
        "#What is the average layoff percentage across all companies?\n",
        "average_layoff_percentage = df['Layoff_Percentage'].mean()\n",
        "print(\"Average layoff percentage:\", round(average_layoff_percentage, 2))"
      ]
    },
    {
      "cell_type": "code",
      "execution_count": 36,
      "metadata": {
        "colab": {
          "base_uri": "https://localhost:8080/"
        },
        "id": "jsnfzRLow4xe",
        "outputId": "9de489f3-ca01-46a5-e7ae-386aa255a3e9"
      },
      "outputs": [
        {
          "name": "stdout",
          "output_type": "stream",
          "text": [
            "Quartile with highest average company size: Q4\n"
          ]
        },
        {
          "name": "stderr",
          "output_type": "stream",
          "text": [
            "C:\\Users\\dukas\\AppData\\Local\\Temp\\ipykernel_16744\\679171427.py:2: FutureWarning: The default of observed=False is deprecated and will be changed to True in a future version of pandas. Pass observed=False to retain current behavior or observed=True to adopt the future default and silence this warning.\n",
            "  quartile_avg_size = df.groupby('Layoff_Quartile')['company_size'].mean().idxmax()\n"
          ]
        }
      ],
      "source": [
        "#Which quartile of Layoff_Percentage has the highest average company_size?\n",
        "quartile_avg_size = df.groupby('Layoff_Quartile')['company_size'].mean().idxmax()\n",
        "print(\"Quartile with highest average company size:\", quartile_avg_size)"
      ]
    }
  ],
  "metadata": {
    "colab": {
      "provenance": []
    },
    "kernelspec": {
      "display_name": "Python 3",
      "name": "python3"
    },
    "language_info": {
      "codemirror_mode": {
        "name": "ipython",
        "version": 3
      },
      "file_extension": ".py",
      "mimetype": "text/x-python",
      "name": "python",
      "nbconvert_exporter": "python",
      "pygments_lexer": "ipython3",
      "version": "3.10.18"
    }
  },
  "nbformat": 4,
  "nbformat_minor": 0
}
